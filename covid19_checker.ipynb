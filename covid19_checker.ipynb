{
  "nbformat": 4,
  "nbformat_minor": 0,
  "metadata": {
    "colab": {
      "name": "covid19-checker",
      "provenance": [],
      "authorship_tag": "ABX9TyOH1DBuLKREBC06eE3ySQDU",
      "include_colab_link": true
    },
    "kernelspec": {
      "name": "python3",
      "display_name": "Python 3"
    }
  },
  "cells": [
    {
      "cell_type": "markdown",
      "metadata": {
        "id": "view-in-github",
        "colab_type": "text"
      },
      "source": [
        "<a href=\"https://colab.research.google.com/github/rajatguptakgp/symptomchecker_covid19hackathon/blob/master/covid19_checker.ipynb\" target=\"_parent\"><img src=\"https://colab.research.google.com/assets/colab-badge.svg\" alt=\"Open In Colab\"/></a>"
      ]
    },
    {
      "cell_type": "code",
      "metadata": {
        "id": "uMmn8SwCguA-",
        "colab_type": "code",
        "colab": {}
      },
      "source": [
        "!git clone https://github.com/rajatguptakgp/symptomchecker_covid19hackathon.git"
      ],
      "execution_count": 0,
      "outputs": []
    },
    {
      "cell_type": "code",
      "metadata": {
        "id": "6GiahazCgwmx",
        "colab_type": "code",
        "colab": {}
      },
      "source": [
        "cd symptomchecker_covid19hackathon/"
      ],
      "execution_count": 0,
      "outputs": []
    },
    {
      "cell_type": "code",
      "metadata": {
        "id": "jOebg3dwgxsN",
        "colab_type": "code",
        "colab": {}
      },
      "source": [
        "pip install googletrans"
      ],
      "execution_count": 0,
      "outputs": []
    },
    {
      "cell_type": "code",
      "metadata": {
        "id": "_8mF_T4Igy0p",
        "colab_type": "code",
        "colab": {}
      },
      "source": [
        "run covid19-checker.py"
      ],
      "execution_count": 0,
      "outputs": []
    }
  ]
}
